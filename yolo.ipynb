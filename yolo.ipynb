{
 "cells": [
  {
   "cell_type": "code",
   "execution_count": 8,
   "id": "0542b5f7-1769-4914-8ec5-4bfa6c72f2a4",
   "metadata": {},
   "outputs": [
    {
     "name": "stdout",
     "output_type": "stream",
     "text": [
      ";\n"
     ]
    }
   ],
   "source": [
    "print(\";\")"
   ]
  },
  {
   "cell_type": "code",
   "execution_count": 15,
   "id": "e46c554a-9621-442c-82f3-8b9675f3e08c",
   "metadata": {},
   "outputs": [
    {
     "name": "stdout",
     "output_type": "stream",
     "text": [
      "Fusing layers... \n",
      "([[0, 0, 0, 0, 0, 0, 0]], [[[1.4201519966125489, 2400.8317371368407, 312.3894035339356, 3860.0961135864254], [2603.0046447753907, 2897.229098510742, 2903.097088623047, 3870.954327392578], [124.28194732666017, 2704.707690811157, 1114.9639381408692, 3861.4245552062985], [1558.865254211426, 1916.9501014709472, 2764.301164245606, 3860.7962631225582], [901.4511875152589, 1875.7147945404051, 2082.180355834961, 3862.489888000488], [2537.250039672852, 1675.3889305114744, 3597.1708007812504, 3853.7575492858887], [3264.8857269287114, 1739.4949905395506, 5154.295999145508, 3860.5733207702633]]], [[0.28606411814689636, 0.39196956157684326, 0.8120423555374146, 0.8211710453033447, 0.8548893928527832, 0.9097601771354675, 0.9613560438156128]])\n"
     ]
    }
   ],
   "source": [
    "import cv2\n",
    "from yolov7_package import Yolov7Detector\n",
    "\n",
    "# Create an instance of Yolov7Detector\n",
    "yolo_detector = Yolov7Detector()\n",
    "\n",
    "# Load the image\n",
    "img = cv2.imread('IMAGE.JPG')\n",
    "\n",
    "# Run the detection\n",
    "image = yolo_detector.detect(img)  # Store the results for later use\n",
    "print(image)\n",
    "# # Access the bounding box coordinates and confidence scores\n",
    "# for box, confidence in zip(image[0], image[1][0]):\n",
    "#     left, top, right, bottom = map(int, box)\n",
    "#     color = (0, 255, 0)  # Green color for the bounding box\n",
    "#     label = f'Confidence: {confidence:.2f}'\n",
    "\n",
    "#     # Print bounding box coordinates and confidence score\n",
    "#     print(f'Bounding Box: ({left}, {top}) - ({right}, {bottom})')\n",
    "#     print(f'Confidence: {confidence:.2f}')"
   ]
  },
  {
   "cell_type": "code",
   "execution_count": 11,
   "id": "aa065b9d-dcdd-48db-9874-fe2ba15ff2cc",
   "metadata": {},
   "outputs": [
    {
     "ename": "error",
     "evalue": "OpenCV(4.7.0) :-1: error: (-5:Bad argument) in function 'rectangle'\n> Overload resolution failed:\n>  - img is not a numerical tuple\n>  - Expected Ptr<cv::UMat> for argument 'img'\n>  - img is not a numerical tuple\n>  - Expected Ptr<cv::UMat> for argument 'img'\n",
     "output_type": "error",
     "traceback": [
      "\u001b[0;31m---------------------------------------------------------------------------\u001b[0m",
      "\u001b[0;31merror\u001b[0m                                     Traceback (most recent call last)",
      "Cell \u001b[0;32mIn[11], line 5\u001b[0m\n\u001b[1;32m      3\u001b[0m     color \u001b[38;5;241m=\u001b[39m (\u001b[38;5;241m0\u001b[39m, \u001b[38;5;241m255\u001b[39m, \u001b[38;5;241m0\u001b[39m)  \u001b[38;5;66;03m# Green color for the bounding box\u001b[39;00m\n\u001b[1;32m      4\u001b[0m     label \u001b[38;5;241m=\u001b[39m \u001b[38;5;124mf\u001b[39m\u001b[38;5;124m'\u001b[39m\u001b[38;5;124mConfidence: \u001b[39m\u001b[38;5;132;01m{\u001b[39;00mconfidence\u001b[38;5;132;01m:\u001b[39;00m\u001b[38;5;124m.2f\u001b[39m\u001b[38;5;132;01m}\u001b[39;00m\u001b[38;5;124m'\u001b[39m\n\u001b[0;32m----> 5\u001b[0m     \u001b[43mcv2\u001b[49m\u001b[38;5;241;43m.\u001b[39;49m\u001b[43mrectangle\u001b[49m\u001b[43m(\u001b[49m\u001b[43mimage\u001b[49m\u001b[43m,\u001b[49m\u001b[43m \u001b[49m\u001b[43m(\u001b[49m\u001b[43mleft\u001b[49m\u001b[43m,\u001b[49m\u001b[43m \u001b[49m\u001b[43mtop\u001b[49m\u001b[43m)\u001b[49m\u001b[43m,\u001b[49m\u001b[43m \u001b[49m\u001b[43m(\u001b[49m\u001b[43mright\u001b[49m\u001b[43m,\u001b[49m\u001b[43m \u001b[49m\u001b[43mbottom\u001b[49m\u001b[43m)\u001b[49m\u001b[43m,\u001b[49m\u001b[43m \u001b[49m\u001b[43mcolor\u001b[49m\u001b[43m,\u001b[49m\u001b[43m \u001b[49m\u001b[38;5;241;43m2\u001b[39;49m\u001b[43m)\u001b[49m\n\u001b[1;32m      6\u001b[0m     cv2\u001b[38;5;241m.\u001b[39mputText(image, label, (left, top \u001b[38;5;241m-\u001b[39m \u001b[38;5;241m10\u001b[39m), cv2\u001b[38;5;241m.\u001b[39mFONT_HERSHEY_SIMPLEX, \u001b[38;5;241m0.5\u001b[39m, color, \u001b[38;5;241m2\u001b[39m)\n\u001b[1;32m      8\u001b[0m \u001b[38;5;66;03m# Display the image with bounding boxes\u001b[39;00m\n",
      "\u001b[0;31merror\u001b[0m: OpenCV(4.7.0) :-1: error: (-5:Bad argument) in function 'rectangle'\n> Overload resolution failed:\n>  - img is not a numerical tuple\n>  - Expected Ptr<cv::UMat> for argument 'img'\n>  - img is not a numerical tuple\n>  - Expected Ptr<cv::UMat> for argument 'img'\n"
     ]
    }
   ],
   "source": [
    "for box, confidence in zip(result[1][0], result[2][0]):\n",
    "    left, top, right, bottom = map(int, box)\n",
    "    color = (0, 255, 0)  # Green color for the bounding box\n",
    "    label = f'Confidence: {confidence:.2f}'\n",
    "    cv2.rectangle(image, (left, top), (right, bottom), color, 2)\n",
    "    cv2.putText(image, label, (left, top - 10), cv2.FONT_HERSHEY_SIMPLEX, 0.5, color, 2)\n",
    "\n",
    "# Display the image with bounding boxes\n",
    "cv2.imshow('Detected Image', image)\n",
    "cv2.waitKey(0)\n",
    "cv2.destroyAllWindows()\n"
   ]
  },
  {
   "cell_type": "code",
   "execution_count": null,
   "id": "0e302ec5-fdc5-4c00-a576-ae5d6a36a6cf",
   "metadata": {},
   "outputs": [],
   "source": []
  },
  {
   "cell_type": "code",
   "execution_count": null,
   "id": "eba645d0-927c-427c-ae41-906b5f562712",
   "metadata": {},
   "outputs": [],
   "source": []
  }
 ],
 "metadata": {
  "kernelspec": {
   "display_name": "Python 3 (ipykernel)",
   "language": "python",
   "name": "python3"
  },
  "language_info": {
   "codemirror_mode": {
    "name": "ipython",
    "version": 3
   },
   "file_extension": ".py",
   "mimetype": "text/x-python",
   "name": "python",
   "nbconvert_exporter": "python",
   "pygments_lexer": "ipython3",
   "version": "3.10.12"
  }
 },
 "nbformat": 4,
 "nbformat_minor": 5
}
